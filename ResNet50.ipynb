{
 "cells": [
  {
   "cell_type": "code",
   "execution_count": 1,
   "metadata": {},
   "outputs": [],
   "source": [
    "import pandas as pd\n",
    "from pathlib import Path\n",
    "import os\n",
    "from matplotlib import pyplot as plt, image as img\n",
    "import numpy as np\n",
    "from sklearn.model_selection import train_test_split\n",
    "\n",
    "\n",
    "from keras.preprocessing.image import ImageDataGenerator\n",
    "import tensorflow as tf\n",
    "\n",
    "from keras.layers import BatchNormalization\n",
    "from keras.layers import (\n",
    "    Conv2D,\n",
    "    Conv2DTranspose,\n",
    "    MaxPool2D,\n",
    "    ReLU,\n",
    "    Flatten,\n",
    "    Dense,\n",
    "    UpSampling2D,\n",
    "    Dropout,\n",
    "    Input, \n",
    "    Concatenate,\n",
    "    GlobalAveragePooling2D, \n",
    "    GlobalMaxPooling2D,\n",
    ")\n",
    "from skimage.transform import resize\n",
    "from tensorflow import Tensor\n",
    "from keras.models import Model, Sequential, load_model\n",
    "from keras import layers\n",
    "import tensorflow as tf\n",
    "from keras.callbacks import Callback, ModelCheckpoint, ReduceLROnPlateau, EarlyStopping\n",
    "from keras.layers import Input\n",
    "from tensorflow import Tensor\n",
    "from keras.optimizers import Adam\n"
   ]
  },
  {
   "cell_type": "markdown",
   "metadata": {},
   "source": [
    "### Image Read"
   ]
  },
  {
   "cell_type": "code",
   "execution_count": 2,
   "metadata": {},
   "outputs": [],
   "source": [
    "def load_data():\n",
    "\n",
    "    p_covid_path = \"C:/Users/PC/Documents/FYP/FYP/Code/curated_data/curated_data/2COVID\"\n",
    "    n_covid_path = \"C:/Users/PC/Documents/FYP/FYP/Code/curated_data/curated_data/1NonCOVID\"\n",
    "    cap_path = \"C:/Users/PC/Documents/FYP/FYP/Code/curated_data/curated_data/3CAP\"\n",
    "\n",
    "    p_covid_images = list(Path(p_covid_path).glob(\"*.png\"))\n",
    "    n_covid_images = list(Path(n_covid_path).glob(\"*.png\"))\n",
    "    cap_images = list(Path(cap_path).glob(\"*.png\"))\n",
    "\n",
    "    return p_covid_images, n_covid_images, cap_images"
   ]
  },
  {
   "cell_type": "code",
   "execution_count": 3,
   "metadata": {},
   "outputs": [
    {
     "name": "stdout",
     "output_type": "stream",
     "text": [
      "7593\n",
      "6893\n",
      "2618\n"
     ]
    }
   ],
   "source": [
    "covid_images, non_covid_images, cap_images = load_data()\n",
    "\n",
    "print(len(covid_images))\n",
    "print(len(non_covid_images))\n",
    "print(len(cap_images))"
   ]
  },
  {
   "cell_type": "markdown",
   "metadata": {},
   "source": [
    "### Image Resize, Split Training and Validation set"
   ]
  },
  {
   "cell_type": "code",
   "execution_count": 4,
   "metadata": {},
   "outputs": [
    {
     "name": "stdout",
     "output_type": "stream",
     "text": [
      "Found 17104 files belonging to 3 classes.\n",
      "Using 13684 files for training.\n"
     ]
    }
   ],
   "source": [
    "data_dir = \"C:/Users/PC/Documents/FYP/FYP/Code/curated_data/curated_data\"\n",
    "img_height, img_width = 180, 180\n",
    "batch_size = 32\n",
    "\n",
    "#== Training data ==\n",
    "train_ds = tf.keras.preprocessing.image_dataset_from_directory(\n",
    "    data_dir,\n",
    "    validation_split=0.2,\n",
    "    subset=\"training\",\n",
    "    seed=123,\n",
    "    label_mode=\"categorical\",\n",
    "    image_size=(img_height,img_width),\n",
    "    batch_size=batch_size)"
   ]
  },
  {
   "cell_type": "code",
   "execution_count": 5,
   "metadata": {},
   "outputs": [
    {
     "name": "stdout",
     "output_type": "stream",
     "text": [
      "Found 17104 files belonging to 3 classes.\n",
      "Using 3420 files for validation.\n"
     ]
    }
   ],
   "source": [
    "#== Validation data ==\n",
    "val_ds = tf.keras.preprocessing.image_dataset_from_directory(\n",
    "    data_dir,\n",
    "    validation_split=0.2,\n",
    "    subset=\"validation\",\n",
    "    seed=123,\n",
    "    label_mode=\"categorical\",\n",
    "    image_size=(img_height,img_width),\n",
    "    batch_size=batch_size)"
   ]
  },
  {
   "cell_type": "code",
   "execution_count": 6,
   "metadata": {},
   "outputs": [
    {
     "name": "stdout",
     "output_type": "stream",
     "text": [
      "['1NonCOVID', '2COVID', '3CAP']\n",
      "1NonCOVID   0\n",
      "2COVID   1\n",
      "3CAP   2\n"
     ]
    }
   ],
   "source": [
    "#classification\n",
    "\n",
    "class_names=train_ds.class_names\n",
    "print(class_names)\n",
    "\n",
    "for i in range(len(class_names)):\n",
    "    print(class_names[i], \" \", i)"
   ]
  },
  {
   "cell_type": "code",
   "execution_count": 7,
   "metadata": {},
   "outputs": [],
   "source": [
    "#Defining pre-trained model\n",
    "\n",
    "resnet_model = Sequential()\n",
    "\n",
    "pretrained_model = tf.keras.applications.resnet50.ResNet50(include_top=False,\n",
    "                                                           weights='imagenet',pooling='avg',\n",
    "                                                           classes=3,\n",
    "                                                           input_shape=(180,180,3))\n",
    "\n",
    "for layer in pretrained_model.layers:\n",
    "    layer.trainable=False\n",
    "\n",
    "resnet_model.add(pretrained_model)"
   ]
  },
  {
   "cell_type": "code",
   "execution_count": 8,
   "metadata": {},
   "outputs": [
    {
     "name": "stdout",
     "output_type": "stream",
     "text": [
      "Model: \"sequential\"\n",
      "_________________________________________________________________\n",
      " Layer (type)                Output Shape              Param #   \n",
      "=================================================================\n",
      " resnet50 (Functional)       (None, 2048)              23587712  \n",
      "                                                                 \n",
      " flatten (Flatten)           (None, 2048)              0         \n",
      "                                                                 \n",
      " batch_normalization (Batch  (None, 2048)              8192      \n",
      " Normalization)                                                  \n",
      "                                                                 \n",
      " dense (Dense)               (None, 512)               1049088   \n",
      "                                                                 \n",
      " batch_normalization_1 (Bat  (None, 512)               2048      \n",
      " chNormalization)                                                \n",
      "                                                                 \n",
      " dropout (Dropout)           (None, 512)               0         \n",
      "                                                                 \n",
      " dense_1 (Dense)             (None, 256)               131328    \n",
      "                                                                 \n",
      " batch_normalization_2 (Bat  (None, 256)               1024      \n",
      " chNormalization)                                                \n",
      "                                                                 \n",
      " dropout_1 (Dropout)         (None, 256)               0         \n",
      "                                                                 \n",
      " dense_2 (Dense)             (None, 128)               32896     \n",
      "                                                                 \n",
      " batch_normalization_3 (Bat  (None, 128)               512       \n",
      " chNormalization)                                                \n",
      "                                                                 \n",
      " dropout_2 (Dropout)         (None, 128)               0         \n",
      "                                                                 \n",
      " dense_3 (Dense)             (None, 64)                8256      \n",
      "                                                                 \n",
      " dropout_3 (Dropout)         (None, 64)                0         \n",
      "                                                                 \n",
      " batch_normalization_4 (Bat  (None, 64)                256       \n",
      " chNormalization)                                                \n",
      "                                                                 \n",
      " dense_4 (Dense)             (None, 3)                 195       \n",
      "                                                                 \n",
      "=================================================================\n",
      "Total params: 24821507 (94.69 MB)\n",
      "Trainable params: 1227779 (4.68 MB)\n",
      "Non-trainable params: 23593728 (90.00 MB)\n",
      "_________________________________________________________________\n"
     ]
    }
   ],
   "source": [
    "resnet_model.add(Flatten())\n",
    "resnet_model.add(BatchNormalization())\n",
    "resnet_model.add(Dense(512, activation='relu'))\n",
    "resnet_model.add(BatchNormalization())\n",
    "resnet_model.add(Dropout(0.5))\n",
    "resnet_model.add(Dense(256, activation='relu'))\n",
    "resnet_model.add(BatchNormalization())\n",
    "resnet_model.add(Dropout(0.5))\n",
    "resnet_model.add(Dense(128, activation='relu'))\n",
    "resnet_model.add(BatchNormalization())\n",
    "resnet_model.add(Dropout(0.5))\n",
    "resnet_model.add(Dense(64, activation='relu'))\n",
    "resnet_model.add(Dropout(0.5))\n",
    "resnet_model.add(BatchNormalization())\n",
    "resnet_model.add(Dense(3, activation='softmax'))\n",
    "\n",
    "resnet_model.summary()"
   ]
  },
  {
   "cell_type": "code",
   "execution_count": 9,
   "metadata": {},
   "outputs": [
    {
     "name": "stdout",
     "output_type": "stream",
     "text": [
      "Num GPUs Available:  0\n"
     ]
    }
   ],
   "source": [
    "print(\"Num GPUs Available: \", len(tf.config.list_physical_devices('GPU')))"
   ]
  },
  {
   "cell_type": "code",
   "execution_count": null,
   "metadata": {},
   "outputs": [],
   "source": [
    "resnet_model.compile(optimizer=Adam(lr=0.001),loss='categorical_crossentropy',metrics=['accuracy'])\n",
    "epochs=20\n",
    "history = resnet_model.fit(train_ds, validation_data=val_ds, epochs=epochs)"
   ]
  }
 ],
 "metadata": {
  "kernelspec": {
   "display_name": "Python 3",
   "language": "python",
   "name": "python3"
  },
  "language_info": {
   "codemirror_mode": {
    "name": "ipython",
    "version": 3
   },
   "file_extension": ".py",
   "mimetype": "text/x-python",
   "name": "python",
   "nbconvert_exporter": "python",
   "pygments_lexer": "ipython3",
   "version": "3.11.7"
  }
 },
 "nbformat": 4,
 "nbformat_minor": 2
}
